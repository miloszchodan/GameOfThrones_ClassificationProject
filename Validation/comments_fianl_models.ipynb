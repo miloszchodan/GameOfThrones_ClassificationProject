{
 "cells": [
  {
   "cell_type": "markdown",
   "source": [
    "- możecie sprobowac jeszcze modelowanie hierarchiczne\n",
    "- napewno przydałyby się wytłumaczenie w komenatrzach czemu wybieracie daną wartośc parametru w danym modelu, bo np z naszych danych wynika ze dla kmenas najlepsza ilosc klastrow to 6\n",
    "- modele na naszych danych są w final_models_validation, ale nie wszytskie wizaualizacje byłam w stanie wywołać bo się bardzo długo kompilowały.\n",
    "\n",
    "- Ogólnie kMeans u nas tez wyglada jakby dobrze dzielil, tylko czasem stworzył  bardzo małe klastry, ale to pewnie kwestia rozmiaru naszych danych\n",
    "- DBSCAN mi sie 3D nie odpalil ale na 2D wygladał okej ale znowu byly bardzo male niektore klastry (no pewnie kwestia malego zbioru danych)\n",
    "- Moglibyscie pokazac tez jakies wizualizacje dla GMM (bo zadnych nie widze tam, a widzialam ze sprawdzacie wyniki metryk dla niego). Plus jakies strojenie parametrow dla niego mogłoby być przydatne\n",
    "- "
   ],
   "metadata": {
    "collapsed": false
   },
   "id": "efd726007e6b1de4"
  }
 ],
 "metadata": {
  "kernelspec": {
   "display_name": "Python 3",
   "language": "python",
   "name": "python3"
  },
  "language_info": {
   "codemirror_mode": {
    "name": "ipython",
    "version": 2
   },
   "file_extension": ".py",
   "mimetype": "text/x-python",
   "name": "python",
   "nbconvert_exporter": "python",
   "pygments_lexer": "ipython2",
   "version": "2.7.6"
  }
 },
 "nbformat": 4,
 "nbformat_minor": 5
}
